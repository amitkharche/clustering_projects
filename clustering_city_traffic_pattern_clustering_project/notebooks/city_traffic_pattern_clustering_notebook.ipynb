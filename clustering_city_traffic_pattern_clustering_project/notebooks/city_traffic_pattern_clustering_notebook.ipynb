{
 "cells": [
  {
   "cell_type": "markdown",
   "id": "3231288a",
   "metadata": {},
   "source": [
    "# 🚦 City Traffic Pattern Clustering\n",
    "This notebook demonstrates the full workflow for clustering city traffic patterns using KMeans."
   ]
  },
  {
   "cell_type": "code",
   "execution_count": null,
   "id": "129839da",
   "metadata": {},
   "outputs": [],
   "source": [
    "import pandas as pd\n",
    "import numpy as np\n",
    "import matplotlib.pyplot as plt\n",
    "import seaborn as sns\n",
    "import pickle\n",
    "from sklearn.preprocessing import StandardScaler, OneHotEncoder\n",
    "from sklearn.compose import ColumnTransformer\n",
    "from sklearn.pipeline import Pipeline\n",
    "from sklearn.cluster import KMeans\n",
    "from sklearn.metrics import silhouette_score\n",
    "from sklearn.decomposition import PCA\n"
   ]
  },
  {
   "cell_type": "markdown",
   "id": "9b6a1634",
   "metadata": {},
   "source": [
    "## 📥 Load Dataset"
   ]
  },
  {
   "cell_type": "code",
   "execution_count": null,
   "id": "c163f04c",
   "metadata": {},
   "outputs": [],
   "source": [
    "df = pd.read_csv(\"data/simulated_city_traffic.csv\")\n",
    "df.head()\n"
   ]
  },
  {
   "cell_type": "markdown",
   "id": "4b313ffa",
   "metadata": {},
   "source": [
    "## 🔍 Exploratory Data Analysis"
   ]
  },
  {
   "cell_type": "code",
   "execution_count": null,
   "id": "6d11f677",
   "metadata": {},
   "outputs": [],
   "source": [
    "df.describe(include=\"all\")\n"
   ]
  },
  {
   "cell_type": "code",
   "execution_count": null,
   "id": "94f79b74",
   "metadata": {},
   "outputs": [],
   "source": [
    "sns.histplot(df[\"Avg_Speed\"], kde=True)\n",
    "plt.title(\"Average Speed Distribution\")\n",
    "plt.show()\n"
   ]
  },
  {
   "cell_type": "markdown",
   "id": "5d8b93c4",
   "metadata": {},
   "source": [
    "## 🧹 Preprocessing Setup"
   ]
  },
  {
   "cell_type": "code",
   "execution_count": null,
   "id": "c6b4d908",
   "metadata": {},
   "outputs": [],
   "source": [
    "numeric_features = [\"Avg_Speed\", \"Vehicle_Count\", \"Latitude\", \"Longitude\"]\n",
    "categorical_features = [\"Time_of_Day\", \"Day_of_Week\", \"Weather_Condition\"]\n",
    "\n",
    "numeric_transformer = StandardScaler()\n",
    "categorical_transformer = OneHotEncoder(drop=\"first\", handle_unknown=\"ignore\")\n",
    "\n",
    "preprocessor = ColumnTransformer(\n",
    "    transformers=[\n",
    "        (\"num\", numeric_transformer, numeric_features),\n",
    "        (\"cat\", categorical_transformer, categorical_features)\n",
    "    ]\n",
    ")\n",
    "\n",
    "X = preprocessor.fit_transform(df)\n"
   ]
  },
  {
   "cell_type": "markdown",
   "id": "9e90e87d",
   "metadata": {},
   "source": [
    "## 🧠 Model Training"
   ]
  },
  {
   "cell_type": "code",
   "execution_count": null,
   "id": "f190d286",
   "metadata": {},
   "outputs": [],
   "source": [
    "model = KMeans(n_clusters=5, random_state=42)\n",
    "model.fit(X)\n",
    "df[\"Cluster\"] = model.predict(X)\n"
   ]
  },
  {
   "cell_type": "markdown",
   "id": "c8825a86",
   "metadata": {},
   "source": [
    "## 📊 Model Evaluation"
   ]
  },
  {
   "cell_type": "code",
   "execution_count": null,
   "id": "224d31c5",
   "metadata": {},
   "outputs": [],
   "source": [
    "score = silhouette_score(X, df[\"Cluster\"])\n",
    "print(f\"Silhouette Score: {score:.4f}\")\n"
   ]
  },
  {
   "cell_type": "markdown",
   "id": "41842879",
   "metadata": {},
   "source": [
    "## 📉 PCA Visualization of Clusters"
   ]
  },
  {
   "cell_type": "code",
   "execution_count": null,
   "id": "c5fa4112",
   "metadata": {},
   "outputs": [],
   "source": [
    "pca = PCA(n_components=2)\n",
    "reduced = pca.fit_transform(X.toarray() if hasattr(X, \"toarray\") else X)\n",
    "df[\"PCA1\"], df[\"PCA2\"] = reduced[:, 0], reduced[:, 1]\n",
    "\n",
    "sns.scatterplot(data=df, x=\"PCA1\", y=\"PCA2\", hue=\"Cluster\", palette=\"tab10\", s=100)\n",
    "plt.title(\"Traffic Clusters (PCA View)\")\n",
    "plt.show()\n"
   ]
  },
  {
   "cell_type": "markdown",
   "id": "344642f2",
   "metadata": {},
   "source": [
    "## 💾 Save Model and Preprocessor"
   ]
  },
  {
   "cell_type": "code",
   "execution_count": null,
   "id": "75eac8b9",
   "metadata": {},
   "outputs": [],
   "source": [
    "import os\n",
    "os.makedirs(\"model\", exist_ok=True)\n",
    "with open(\"model/kmeans_model.pkl\", \"wb\") as f:\n",
    "    pickle.dump(model, f)\n",
    "with open(\"model/preprocessor.pkl\", \"wb\") as f:\n",
    "    pickle.dump(preprocessor, f)\n"
   ]
  }
 ],
 "metadata": {},
 "nbformat": 4,
 "nbformat_minor": 5
}
