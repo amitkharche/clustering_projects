{
 "cells": [
  {
   "cell_type": "markdown",
   "id": "d6e77441",
   "metadata": {},
   "source": [
    "# 🛍️ Mall Customer Segmentation Project\n",
    "This notebook performs customer segmentation using KMeans clustering."
   ]
  },
  {
   "cell_type": "code",
   "execution_count": null,
   "id": "ff76415d",
   "metadata": {},
   "outputs": [],
   "source": [
    "import pandas as pd\n",
    "import numpy as np\n",
    "import matplotlib.pyplot as plt\n",
    "import seaborn as sns\n",
    "from sklearn.preprocessing import StandardScaler\n",
    "from sklearn.cluster import KMeans\n",
    "from sklearn.decomposition import PCA\n",
    "import pickle\n",
    "import os\n"
   ]
  },
  {
   "cell_type": "code",
   "execution_count": null,
   "id": "8b3f7403",
   "metadata": {},
   "outputs": [],
   "source": [
    "# Load dataset\n",
    "df = pd.read_csv(\"mall_customers.csv\")\n",
    "df.head()\n"
   ]
  },
  {
   "cell_type": "code",
   "execution_count": null,
   "id": "0b42d748",
   "metadata": {},
   "outputs": [],
   "source": [
    "# Basic EDA\n",
    "df.describe()\n"
   ]
  },
  {
   "cell_type": "code",
   "execution_count": null,
   "id": "c8ac3f75",
   "metadata": {},
   "outputs": [],
   "source": [
    "# Plot Age vs Spending Score\n",
    "plt.figure(figsize=(8, 6))\n",
    "sns.scatterplot(data=df, x=\"Age\", y=\"Spending Score (1-100)\", hue=\"Gender\")\n",
    "plt.title(\"Age vs Spending Score\")\n",
    "plt.show()\n"
   ]
  },
  {
   "cell_type": "code",
   "execution_count": null,
   "id": "a15092dc",
   "metadata": {},
   "outputs": [],
   "source": [
    "# Select relevant features\n",
    "features = df[[\"Annual Income (k$)\", \"Spending Score (1-100)\"]]\n",
    "\n",
    "# Standardize\n",
    "scaler = StandardScaler()\n",
    "features_scaled = scaler.fit_transform(features)\n"
   ]
  },
  {
   "cell_type": "code",
   "execution_count": null,
   "id": "3d7cda96",
   "metadata": {},
   "outputs": [],
   "source": [
    "# Elbow method\n",
    "inertia = []\n",
    "for k in range(1, 11):\n",
    "    kmeans = KMeans(n_clusters=k, random_state=42)\n",
    "    kmeans.fit(features_scaled)\n",
    "    inertia.append(kmeans.inertia_)\n",
    "\n",
    "plt.figure(figsize=(8, 6))\n",
    "plt.plot(range(1, 11), inertia, marker='o')\n",
    "plt.title(\"Elbow Method\")\n",
    "plt.xlabel(\"Number of clusters\")\n",
    "plt.ylabel(\"Inertia\")\n",
    "plt.grid(True)\n",
    "plt.show()\n"
   ]
  },
  {
   "cell_type": "code",
   "execution_count": null,
   "id": "1911b699",
   "metadata": {},
   "outputs": [],
   "source": [
    "# Fit KMeans\n",
    "kmeans = KMeans(n_clusters=5, random_state=42)\n",
    "clusters = kmeans.fit_predict(features_scaled)\n",
    "\n",
    "# Assign cluster labels to dataframe\n",
    "df[\"Cluster\"] = clusters\n",
    "df.head()\n"
   ]
  },
  {
   "cell_type": "code",
   "execution_count": null,
   "id": "d1ff7245",
   "metadata": {},
   "outputs": [],
   "source": [
    "# Dimensionality Reduction with PCA\n",
    "pca = PCA(n_components=2)\n",
    "principal_components = pca.fit_transform(features_scaled)\n",
    "df[\"PCA1\"] = principal_components[:, 0]\n",
    "df[\"PCA2\"] = principal_components[:, 1]\n",
    "\n",
    "# Plot clusters\n",
    "plt.figure(figsize=(8, 6))\n",
    "sns.scatterplot(data=df, x=\"PCA1\", y=\"PCA2\", hue=\"Cluster\", palette=\"Set2\", s=100)\n",
    "plt.title(\"Customer Segments (PCA Projection)\")\n",
    "plt.show()\n"
   ]
  },
  {
   "cell_type": "code",
   "execution_count": null,
   "id": "fec006cf",
   "metadata": {},
   "outputs": [],
   "source": [
    "# Save the model and scaler\n",
    "os.makedirs(\"model\", exist_ok=True)\n",
    "with open(\"model/kmeans_model.pkl\", \"wb\") as f:\n",
    "    pickle.dump(kmeans, f)\n",
    "\n",
    "with open(\"model/scaler.pkl\", \"wb\") as f:\n",
    "    pickle.dump(scaler, f)\n"
   ]
  }
 ],
 "metadata": {},
 "nbformat": 4,
 "nbformat_minor": 5
}
