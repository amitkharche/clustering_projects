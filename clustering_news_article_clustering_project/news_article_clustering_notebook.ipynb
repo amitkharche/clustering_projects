{
 "cells": [
  {
   "cell_type": "markdown",
   "id": "66e47d23",
   "metadata": {},
   "source": [
    "# 🗞️ News Article Clustering Project\n",
    "\n",
    "This notebook clusters news articles based on their content using TF-IDF vectorization and KMeans clustering."
   ]
  },
  {
   "cell_type": "code",
   "execution_count": null,
   "id": "2ef44941",
   "metadata": {},
   "outputs": [],
   "source": [
    "import pandas as pd\n",
    "import numpy as np\n",
    "import matplotlib.pyplot as plt\n",
    "import seaborn as sns\n",
    "import pickle\n",
    "from sklearn.feature_extraction.text import TfidfVectorizer\n",
    "from sklearn.cluster import KMeans\n",
    "from sklearn.decomposition import PCA\n",
    "from sklearn.metrics import silhouette_score\n"
   ]
  },
  {
   "cell_type": "markdown",
   "id": "6478d610",
   "metadata": {},
   "source": [
    "## 📥 Load Dataset"
   ]
  },
  {
   "cell_type": "code",
   "execution_count": null,
   "id": "92ce3393",
   "metadata": {},
   "outputs": [],
   "source": [
    "df = pd.read_csv(\"data/simulated_news.csv\")\n",
    "df.head()\n"
   ]
  },
  {
   "cell_type": "markdown",
   "id": "56aea460",
   "metadata": {},
   "source": [
    "## 🔍 Exploratory Data Analysis"
   ]
  },
  {
   "cell_type": "code",
   "execution_count": null,
   "id": "53d62fd7",
   "metadata": {},
   "outputs": [],
   "source": [
    "# Basic info\n",
    "df.info()\n"
   ]
  },
  {
   "cell_type": "code",
   "execution_count": null,
   "id": "e8bc20a9",
   "metadata": {},
   "outputs": [],
   "source": [
    "# Article length distribution\n",
    "df['length'] = df['Article'].apply(len)\n",
    "sns.histplot(df['length'], kde=True)\n",
    "plt.title(\"Article Length Distribution\")\n",
    "plt.xlabel(\"Length (characters)\")\n",
    "plt.ylabel(\"Count\")\n",
    "plt.show()\n"
   ]
  },
  {
   "cell_type": "markdown",
   "id": "7778c772",
   "metadata": {},
   "source": [
    "## 🧹 Data Preprocessing and Feature Extraction"
   ]
  },
  {
   "cell_type": "code",
   "execution_count": null,
   "id": "b0aff7ea",
   "metadata": {},
   "outputs": [],
   "source": [
    "# TF-IDF vectorization\n",
    "vectorizer = TfidfVectorizer(stop_words='english')\n",
    "X = vectorizer.fit_transform(df['Article'])\n",
    "X.shape\n"
   ]
  },
  {
   "cell_type": "markdown",
   "id": "a069096c",
   "metadata": {},
   "source": [
    "## 🧠 Model Training"
   ]
  },
  {
   "cell_type": "code",
   "execution_count": null,
   "id": "f22d19aa",
   "metadata": {},
   "outputs": [],
   "source": [
    "kmeans = KMeans(n_clusters=5, random_state=42)\n",
    "kmeans.fit(X)\n",
    "df[\"Cluster\"] = kmeans.predict(X)\n"
   ]
  },
  {
   "cell_type": "markdown",
   "id": "25b09775",
   "metadata": {},
   "source": [
    "## 📊 Model Evaluation"
   ]
  },
  {
   "cell_type": "code",
   "execution_count": null,
   "id": "c9d643d1",
   "metadata": {},
   "outputs": [],
   "source": [
    "score = silhouette_score(X, df[\"Cluster\"])\n",
    "print(f\"Silhouette Score: {score:.4f}\")\n"
   ]
  },
  {
   "cell_type": "markdown",
   "id": "8b6f5ba0",
   "metadata": {},
   "source": [
    "## 📉 PCA Visualization"
   ]
  },
  {
   "cell_type": "code",
   "execution_count": null,
   "id": "3672f8e4",
   "metadata": {},
   "outputs": [],
   "source": [
    "pca = PCA(n_components=2)\n",
    "X_pca = pca.fit_transform(X.toarray())\n",
    "df[\"PCA1\"], df[\"PCA2\"] = X_pca[:, 0], X_pca[:, 1]\n",
    "\n",
    "plt.figure(figsize=(8, 6))\n",
    "sns.scatterplot(data=df, x=\"PCA1\", y=\"PCA2\", hue=\"Cluster\", palette=\"tab10\", s=100)\n",
    "plt.title(\"News Article Clusters (PCA View)\")\n",
    "plt.show()\n"
   ]
  },
  {
   "cell_type": "markdown",
   "id": "823b29af",
   "metadata": {},
   "source": [
    "## 💾 Save Model and Vectorizer"
   ]
  },
  {
   "cell_type": "code",
   "execution_count": null,
   "id": "0a2af4ce",
   "metadata": {},
   "outputs": [],
   "source": [
    "import os\n",
    "os.makedirs(\"model\", exist_ok=True)\n",
    "\n",
    "with open(\"model/kmeans_model.pkl\", \"wb\") as f:\n",
    "    pickle.dump(kmeans, f)\n",
    "\n",
    "with open(\"model/tfidf_vectorizer.pkl\", \"wb\") as f:\n",
    "    pickle.dump(vectorizer, f)\n"
   ]
  }
 ],
 "metadata": {},
 "nbformat": 4,
 "nbformat_minor": 5
}
